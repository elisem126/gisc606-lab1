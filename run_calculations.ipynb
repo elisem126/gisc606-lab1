{
 "cells": [
  {
   "cell_type": "code",
   "execution_count": 1,
   "metadata": {},
   "outputs": [],
   "source": [
    "import os \n",
    "import numpy as np\n",
    "import earthpy as et"
   ]
  },
  {
   "cell_type": "code",
   "execution_count": 2,
   "metadata": {},
   "outputs": [
    {
     "name": "stdout",
     "output_type": "stream",
     "text": [
      "avg-monthly-precip.txt  monthly-precip-2002-2013.csv  months.txt\n"
     ]
    }
   ],
   "source": [
    "ls ~/earth-analytics/data/earthpy-downloads"
   ]
  },
  {
   "cell_type": "code",
   "execution_count": 4,
   "metadata": {},
   "outputs": [],
   "source": [
    "os.chdir(os.path.join(et.io.HOME, \"earth-analytics\"))"
   ]
  },
  {
   "cell_type": "code",
   "execution_count": 5,
   "metadata": {},
   "outputs": [
    {
     "name": "stdout",
     "output_type": "stream",
     "text": [
      "[0.7  0.75 1.85 2.93 3.05 2.02 1.93 1.62 1.84 1.31 1.39 0.84]\n"
     ]
    }
   ],
   "source": [
    "fname = os.path.join(\"data\", \"earthpy-downloads\", \"avg-monthly-precip.txt\")\n",
    "\n",
    "avg_monthly_precip = np.loadtxt(fname)\n",
    "\n",
    "print(avg_monthly_precip)"
   ]
  },
  {
   "cell_type": "code",
   "execution_count": 8,
   "metadata": {},
   "outputs": [
    {
     "name": "stdout",
     "output_type": "stream",
     "text": [
      "[[ 1.07  0.44  1.5   0.2   3.2   1.18  0.09  1.44  1.52  2.44  0.78  0.02]\n",
      " [ 0.27  1.13  1.72  4.14  2.66  0.61  1.03  1.4  18.16  2.24  0.29  0.5 ]]\n"
     ]
    }
   ],
   "source": [
    "fname = os.path.join(\"data\", \"earthpy-downloads\", \"monthly-precip-2002-2013.csv\")\n",
    "\n",
    "precip_2002_2013 = np.loadtxt(fname, delimiter=\",\")\n",
    "\n",
    "print(precip_2002_2013)"
   ]
  },
  {
   "cell_type": "code",
   "execution_count": 9,
   "metadata": {},
   "outputs": [
    {
     "data": {
      "text/plain": [
       "1"
      ]
     },
     "execution_count": 9,
     "metadata": {},
     "output_type": "execute_result"
    }
   ],
   "source": [
    "avg_monthly_precip.ndim"
   ]
  },
  {
   "cell_type": "code",
   "execution_count": 10,
   "metadata": {},
   "outputs": [
    {
     "data": {
      "text/plain": [
       "2"
      ]
     },
     "execution_count": 10,
     "metadata": {},
     "output_type": "execute_result"
    }
   ],
   "source": [
    "precip_2002_2013.ndim"
   ]
  },
  {
   "cell_type": "code",
   "execution_count": 11,
   "metadata": {},
   "outputs": [
    {
     "data": {
      "text/plain": [
       "(12,)"
      ]
     },
     "execution_count": 11,
     "metadata": {},
     "output_type": "execute_result"
    }
   ],
   "source": [
    "avg_monthly_precip.shape"
   ]
  },
  {
   "cell_type": "code",
   "execution_count": 12,
   "metadata": {},
   "outputs": [
    {
     "data": {
      "text/plain": [
       "(2, 12)"
      ]
     },
     "execution_count": 12,
     "metadata": {},
     "output_type": "execute_result"
    }
   ],
   "source": [
    "precip_2002_2013.shape"
   ]
  },
  {
   "cell_type": "code",
   "execution_count": 13,
   "metadata": {},
   "outputs": [
    {
     "name": "stdout",
     "output_type": "stream",
     "text": [
      "[0.7  0.75 1.85 2.93 3.05 2.02 1.93 1.62 1.84 1.31 1.39 0.84]\n"
     ]
    }
   ],
   "source": [
    "print(avg_monthly_precip)"
   ]
  },
  {
   "cell_type": "code",
   "execution_count": 14,
   "metadata": {},
   "outputs": [],
   "source": [
    "avg_monthly_precip *= 25.4"
   ]
  },
  {
   "cell_type": "code",
   "execution_count": 20,
   "metadata": {},
   "outputs": [
    {
     "name": "stdout",
     "output_type": "stream",
     "text": [
      "[4.77456771e+09 5.11560826e+09 1.26185004e+10 1.99849763e+10\n",
      " 2.08034736e+10 1.37780382e+10 1.31641652e+10 1.10497138e+10\n",
      " 1.25502923e+10 8.93526242e+09 9.48092730e+09 5.72948125e+09]\n"
     ]
    }
   ],
   "source": [
    "avg_monthly_precip *= 25.4\n",
    "\n",
    "# avg_monthly_precip = avg_monthly_precip * 25.4\n",
    "\n",
    "# *=, +=, -=, etc.\n",
    "\n",
    "print(avg_monthly_precip)\n"
   ]
  },
  {
   "cell_type": "code",
   "execution_count": 21,
   "metadata": {},
   "outputs": [
    {
     "name": "stdout",
     "output_type": "stream",
     "text": [
      "[[ 1.07  0.44  1.5   0.2   3.2   1.18  0.09  1.44  1.52  2.44  0.78  0.02]\n",
      " [ 0.27  1.13  1.72  4.14  2.66  0.61  1.03  1.4  18.16  2.24  0.29  0.5 ]]\n"
     ]
    }
   ],
   "source": [
    "print(precip_2002_2013)"
   ]
  },
  {
   "cell_type": "code",
   "execution_count": 22,
   "metadata": {},
   "outputs": [
    {
     "name": "stdout",
     "output_type": "stream",
     "text": [
      "[[ 27.178  11.176  38.1     5.08   81.28   29.972   2.286  36.576  38.608\n",
      "   61.976  19.812   0.508]\n",
      " [  6.858  28.702  43.688 105.156  67.564  15.494  26.162  35.56  461.264\n",
      "   56.896   7.366  12.7  ]]\n"
     ]
    }
   ],
   "source": [
    "precip_2002_2013 *= 25.4\n",
    "\n",
    "print(precip_2002_2013)"
   ]
  },
  {
   "cell_type": "code",
   "execution_count": 23,
   "metadata": {},
   "outputs": [
    {
     "ename": "TypeError",
     "evalue": "can't multiply sequence by non-int of type 'float'",
     "output_type": "error",
     "traceback": [
      "\u001b[0;31m---------------------------------------------------------------------------\u001b[0m",
      "\u001b[0;31mTypeError\u001b[0m                                 Traceback (most recent call last)",
      "Cell \u001b[0;32mIn[23], line 4\u001b[0m\n\u001b[1;32m      1\u001b[0m precip_list \u001b[38;5;241m=\u001b[39m [\u001b[38;5;241m0.70\u001b[39m, \u001b[38;5;241m0.75\u001b[39m, \u001b[38;5;241m1.85\u001b[39m, \u001b[38;5;241m2.93\u001b[39m,\u001b[38;5;241m3.05\u001b[39m,\u001b[38;5;241m2.02\u001b[39m,\n\u001b[1;32m      2\u001b[0m                \u001b[38;5;241m1.93\u001b[39m, \u001b[38;5;241m1.62\u001b[39m, \u001b[38;5;241m1.84\u001b[39m, \u001b[38;5;241m1.31\u001b[39m, \u001b[38;5;241m0.84\u001b[39m]\n\u001b[0;32m----> 4\u001b[0m precip_list \u001b[38;5;241m*\u001b[39m\u001b[38;5;241m=\u001b[39m \u001b[38;5;241m25.4\u001b[39m\n\u001b[1;32m      6\u001b[0m \u001b[38;5;28mprint\u001b[39m(precip_list)\n",
      "\u001b[0;31mTypeError\u001b[0m: can't multiply sequence by non-int of type 'float'"
     ]
    }
   ],
   "source": [
    "precip_list = [0.70, 0.75, 1.85, 2.93,3.05,2.02,\n",
    "               1.93, 1.62, 1.84, 1.31, 0.84]\n",
    "\n",
    "precip_list *= 25.4\n",
    "\n",
    "print(precip_list)"
   ]
  },
  {
   "cell_type": "code",
   "execution_count": 24,
   "metadata": {},
   "outputs": [
    {
     "name": "stdout",
     "output_type": "stream",
     "text": [
      "mean average monthly precipitation: 11498750561.224663\n"
     ]
    }
   ],
   "source": [
    "mean_avg_precip = np.mean(avg_monthly_precip)\n",
    "\n",
    "print(\"mean average monthly precipitation:\", mean_avg_precip)"
   ]
  },
  {
   "cell_type": "code",
   "execution_count": 25,
   "metadata": {},
   "outputs": [
    {
     "name": "stdout",
     "output_type": "stream",
     "text": [
      "median average monthly precipitation: 11800003047.504894\n"
     ]
    }
   ],
   "source": [
    "median_avg_precip = np.median(avg_monthly_precip)\n",
    "\n",
    "print(\"median average monthly precipitation:\", median_avg_precip)\n"
   ]
  },
  {
   "cell_type": "code",
   "execution_count": 26,
   "metadata": {},
   "outputs": [
    {
     "name": "stdout",
     "output_type": "stream",
     "text": [
      "minimum average monthly precipitation: 4774567707.082905\n",
      "maximum average monthly precipitation: 20803473580.861225\n"
     ]
    }
   ],
   "source": [
    "print(\"minimum average monthly precipitation:\", np.min(avg_monthly_precip))\n",
    "print(\"maximum average monthly precipitation:\", np.max(avg_monthly_precip))"
   ]
  },
  {
   "cell_type": "code",
   "execution_count": 27,
   "metadata": {},
   "outputs": [
    {
     "name": "stdout",
     "output_type": "stream",
     "text": [
      "[[ 27.178  11.176  38.1     5.08   81.28   29.972   2.286  36.576  38.608\n",
      "   61.976  19.812   0.508]\n",
      " [  6.858  28.702  43.688 105.156  67.564  15.494  26.162  35.56  461.264\n",
      "   56.896   7.366  12.7  ]]\n"
     ]
    }
   ],
   "source": [
    "print(precip_2002_2013)"
   ]
  },
  {
   "cell_type": "code",
   "execution_count": 28,
   "metadata": {},
   "outputs": [
    {
     "name": "stdout",
     "output_type": "stream",
     "text": [
      "[ 27.178  28.702  43.688 105.156  81.28   29.972  26.162  36.576 461.264\n",
      "  61.976  19.812  12.7  ]\n"
     ]
    }
   ],
   "source": [
    "print(np.max(precip_2002_2013, axis=0))"
   ]
  },
  {
   "cell_type": "code",
   "execution_count": 29,
   "metadata": {},
   "outputs": [
    {
     "data": {
      "text/plain": [
       "numpy.ndarray"
      ]
     },
     "execution_count": 29,
     "metadata": {},
     "output_type": "execute_result"
    }
   ],
   "source": [
    "precip_2002_2013_monthly_max = np.max(precip_2002_2013, axis=0)\n",
    "\n",
    "type(precip_2002_2013_monthly_max)"
   ]
  },
  {
   "cell_type": "code",
   "execution_count": 30,
   "metadata": {},
   "outputs": [
    {
     "name": "stdout",
     "output_type": "stream",
     "text": [
      "[ 81.28  461.264]\n"
     ]
    }
   ],
   "source": [
    "print(np.max(precip_2002_2013, axis=1))"
   ]
  },
  {
   "cell_type": "code",
   "execution_count": null,
   "metadata": {},
   "outputs": [],
   "source": []
  }
 ],
 "metadata": {
  "kernelspec": {
   "display_name": "Python 3",
   "language": "python",
   "name": "python3"
  },
  "language_info": {
   "codemirror_mode": {
    "name": "ipython",
    "version": 3
   },
   "file_extension": ".py",
   "mimetype": "text/x-python",
   "name": "python",
   "nbconvert_exporter": "python",
   "pygments_lexer": "ipython3",
   "version": "3.10.13"
  }
 },
 "nbformat": 4,
 "nbformat_minor": 2
}
